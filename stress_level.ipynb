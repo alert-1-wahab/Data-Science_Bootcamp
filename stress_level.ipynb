{
  "nbformat": 4,
  "nbformat_minor": 0,
  "metadata": {
    "colab": {
      "provenance": []
    },
    "kernelspec": {
      "name": "python3",
      "display_name": "Python 3"
    },
    "language_info": {
      "name": "python"
    }
  },
  "cells": [
    {
      "cell_type": "code",
      "execution_count": 1,
      "metadata": {
        "id": "o-bu9cx_NU7G"
      },
      "outputs": [],
      "source": [
        "import pandas as pd\n",
        "import numpy as np\n",
        "from sklearn.model_selection import train_test_split\n",
        "from sklearn.metrics import accuracy_score\n",
        "import xgboost as xgb\n",
        "\n"
      ]
    },
    {
      "cell_type": "code",
      "source": [
        "data_path = r\"/content/StressLevelDataset.csv\"\n",
        "data = pd.read_csv(data_path)\n",
        "\n"
      ],
      "metadata": {
        "id": "YYdtfgHyNZnN"
      },
      "execution_count": 2,
      "outputs": []
    },
    {
      "cell_type": "code",
      "source": [
        "X = data.drop(columns=['stress_level'])\n",
        "y = data['stress_level']\n",
        "\n",
        "X_train, X_test, y_train, y_test = train_test_split(X, y, test_size=0.2, random_state=42)\n",
        "\n",
        "\n",
        "xgb_classifier = xgb.XGBClassifier()\n",
        "\n",
        "\n",
        "xgb_classifier.fit(X_train, y_train)\n",
        "\n",
        "\n",
        "y_pred = xgb_classifier.predict(X_test)\n",
        "\n",
        "\n",
        "accuracy = accuracy_score(y_test, y_pred)\n",
        "print(f\"Accuracy: {accuracy * 100:.2f}%\")"
      ],
      "metadata": {
        "colab": {
          "base_uri": "https://localhost:8080/"
        },
        "id": "kdW4xoteOAC-",
        "outputId": "6c514498-cb88-4bb3-c9b1-cfc9aa87e3e9"
      },
      "execution_count": 4,
      "outputs": [
        {
          "output_type": "stream",
          "name": "stdout",
          "text": [
            "Accuracy: 86.82%\n"
          ]
        }
      ]
    },
    {
      "cell_type": "code",
      "source": [],
      "metadata": {
        "id": "wWlu6k39OA1_"
      },
      "execution_count": null,
      "outputs": []
    }
  ]
}